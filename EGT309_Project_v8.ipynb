{
  "cells": [
    {
      "cell_type": "code",
      "execution_count": null,
      "metadata": {
        "id": "5_vxRklexwxJ"
      },
      "outputs": [],
      "source": [
        "# Import Libraries\n",
        "import pandas as pd\n",
        "import numpy as np\n",
        "from sklearn.model_selection import train_test_split\n",
        "from sklearn.preprocessing import LabelEncoder\n",
        "from sklearn.ensemble import RandomForestClassifier\n",
        "from sklearn.metrics import accuracy_score, classification_report, confusion_matrix\n",
        "import matplotlib.pyplot as plt\n",
        "import seaborn as sns"
      ]
    },
    {
      "cell_type": "code",
      "execution_count": null,
      "metadata": {
        "colab": {
          "base_uri": "https://localhost:8080/"
        },
        "id": "VnQr62QSx8_x",
        "outputId": "0cea068b-7400-4d44-c877-f0bf8a5308ed"
      },
      "outputs": [
        {
          "output_type": "stream",
          "name": "stdout",
          "text": [
            "Mounted at /content/drive\n"
          ]
        }
      ],
      "source": [
        "from google.colab import drive\n",
        "drive.mount('/content/drive',force_remount=True)\n",
        "file_path = '/content/drive/MyDrive/EGT309 AI solution development project/master_dataset.csv'\n",
        "df = pd.read_csv(file_path)"
      ]
    },
    {
      "cell_type": "markdown",
      "metadata": {
        "id": "cKpRFgWHnn2v"
      },
      "source": [
        "###Data preprocessing, Feature engineering and selection"
      ]
    },
    {
      "cell_type": "code",
      "execution_count": null,
      "metadata": {
        "colab": {
          "base_uri": "https://localhost:8080/"
        },
        "id": "ZKYeYHCO2CKS",
        "outputId": "034f5549-f0a3-4eb2-8915-c563eda6ee0e"
      },
      "outputs": [
        {
          "output_type": "stream",
          "name": "stdout",
          "text": [
            "order_id                            0\n",
            "order_status                        0\n",
            "order_purchase_timestamp            0\n",
            "order_delivered_customer_date       0\n",
            "customer_unique_id                  0\n",
            "zip_code                            0\n",
            "city                                0\n",
            "state                               0\n",
            "product_id                          0\n",
            "seller_id                           0\n",
            "price                               0\n",
            "payment_type                        0\n",
            "payment_installments                0\n",
            "payment_value                       0\n",
            "review_score                      722\n",
            "product_category_name_english    1486\n",
            "dtype: int64\n"
          ]
        }
      ],
      "source": [
        "print(df.isnull().sum())"
      ]
    },
    {
      "cell_type": "code",
      "execution_count": null,
      "metadata": {
        "colab": {
          "base_uri": "https://localhost:8080/"
        },
        "id": "-ZNy7QhThdny",
        "outputId": "c59f64ee-7a27-494d-d007-9ec666836802"
      },
      "outputs": [
        {
          "output_type": "display_data",
          "data": {
            "text/plain": [
              "<Figure size 800x500 with 1 Axes>"
            ],
            "image/png": "[encoded data removed]"
          },
          "metadata": {}
        }
      ],
      "source": [
        "import matplotlib.pyplot as plt\n",
        "import seaborn as sns\n",
        "\n",
        "plt.figure(figsize=(8,5))\n",
        "sns.countplot(x='review_score', data=df)\n",
        "plt.title('Distribution of Review Scores')\n",
        "plt.xlabel('Review Score')\n",
        "plt.ylabel('Count')\n",
        "plt.show()"
      ]
    },
    {
      "cell_type": "code",
      "execution_count": null,
      "metadata": {
        "id": "mui-HVjnpTdH"
      },
      "outputs": [],
      "source": [
        "# Find the mode (most common value) for review_score\n",
        "mode_value = df['review_score'].mode()[0]\n",
        "# Fill missing values with the mode\n",
        "df['review_score'] = df['review_score'].fillna(mode_value)"
      ]
    },
    {
      "cell_type": "code",
      "execution_count": null,
      "metadata": {
        "colab": {
          "base_uri": "https://localhost:8080/"
        },
        "id": "Kl4uyyWkptxm",
        "outputId": "ff5b0607-798f-4f16-8712-aac59ab4ce1c"
      },
      "outputs": [
        {
          "output_type": "stream",
          "name": "stdout",
          "text": [
            "                             order_id                        product_id  \\\n",
            "113  bfe42c22ecbf90bc9f35cf591270b6a7  71225f49be70df4297892f6a5fa62171   \n",
            "191  58ac1947c1a9067b9f416cba6d844a3f  9820e04e332fc450d6fd975befc1bc28   \n",
            "241  e22b71f6e4a481445ec4527cb4c405f7  3bc5164bc7f4be77002d6651da65c98c   \n",
            "278  a094215e786240fcfefb83d18036a1cd  5a848e4ab52fd5445cdc07aab1c40e48   \n",
            "347  6f841dde94727854eaff3f66432c80ea  c600d7f13104e8db2ca2b9fa78581409   \n",
            "489  66cf92fc3ec94fbafc4edd77e0814818  de6702c748c719cbd13bb814f006ba22   \n",
            "546  769cad60df1d40dccfd5ec163be24654  26a4f62a409a78816adb31e0d729a163   \n",
            "707  14d68c5b215a31950340dc9cb3f73efe  5a848e4ab52fd5445cdc07aab1c40e48   \n",
            "736  1b99333d39cf95f48be3864b2e1e88b3  0ae10ca52e6cb8745e17c11e7c43907c   \n",
            "963  8dbdb81783a3c754dc9441826510a36a  1954739d84629e7323a4295812a3e0ec   \n",
            "\n",
            "    product_category_name_english  \n",
            "113                           NaN  \n",
            "191                           NaN  \n",
            "241                           NaN  \n",
            "278                           NaN  \n",
            "347                           NaN  \n",
            "489                           NaN  \n",
            "546                           NaN  \n",
            "707                           NaN  \n",
            "736                           NaN  \n",
            "963                           NaN  \n"
          ]
        }
      ],
      "source": [
        "missing_cat = df[df['product_category_name_english'].isnull()]\n",
        "print(missing_cat[['order_id', 'product_id', 'product_category_name_english']].head(10))"
      ]
    },
    {
      "cell_type": "code",
      "execution_count": null,
      "metadata": {
        "id": "VYNTm7NTsDVu"
      },
      "outputs": [],
      "source": [
        "# Drop rows where product_category_name_english is missing (NaN)\n",
        "df = df.dropna(subset=['product_category_name_english'])\n",
        "df = df.reset_index(drop=True)"
      ]
    },
    {
      "cell_type": "code",
      "execution_count": null,
      "metadata": {
        "colab": {
          "base_uri": "https://localhost:8080/"
        },
        "id": "2LQ4B2mdsVPn",
        "outputId": "6bb63b28-ea9d-4a48-f03b-c770b0262074"
      },
      "outputs": [
        {
          "output_type": "stream",
          "name": "stdout",
          "text": [
            "order_id                         0\n",
            "order_status                     0\n",
            "order_purchase_timestamp         0\n",
            "order_delivered_customer_date    0\n",
            "customer_unique_id               0\n",
            "zip_code                         0\n",
            "city                             0\n",
            "state                            0\n",
            "product_id                       0\n",
            "seller_id                        0\n",
            "price                            0\n",
            "payment_type                     0\n",
            "payment_installments             0\n",
            "payment_value                    0\n",
            "review_score                     0\n",
            "product_category_name_english    0\n",
            "dtype: int64\n"
          ]
        }
      ],
      "source": [
        "print(df.isnull().sum())"
      ]
    },
    {
      "cell_type": "code",
      "execution_count": null,
      "metadata": {
        "colab": {
          "base_uri": "https://localhost:8080/"
        },
        "id": "6vTSzbcin_S0",
        "outputId": "92523daa-5bba-421f-cc53-d067d3b05b75"
      },
      "outputs": [
        {
          "output_type": "stream",
          "name": "stdout",
          "text": [
            "Duplicate rows: 0\n"
          ]
        }
      ],
      "source": [
        "# Check for duplicate rows\n",
        "print(\"Duplicate rows:\", df.duplicated().sum())"
      ]
    },
    {
      "cell_type": "code",
      "execution_count": null,
      "metadata": {
        "id": "fYHJl5A-t9lo"
      },
      "outputs": [],
      "source": [
        "# # Save the cleaned DataFrame to CSV\n",
        "# df.to_csv('/content/drive/MyDrive/EGT309 AI solution development project/cleaned_master_dataset_.csv', index=False)"
      ]
    },
    {
      "cell_type": "code",
      "execution_count": null,
      "metadata": {
        "id": "xAww64oT0aLe"
      },
      "outputs": [],
      "source": [
        "# 1. Compute customer frequency for repeat buyer target\n",
        "customer_orders = df.groupby('customer_unique_id')['order_id'].nunique().reset_index()\n",
        "customer_orders.columns = ['customer_unique_id', 'order_count']"
      ]
    },
    {
      "cell_type": "code",
      "execution_count": null,
      "metadata": {
        "id": "QdjiEM9O0cl6"
      },
      "outputs": [],
      "source": [
        "# 2. Merge back and create the target column\n",
        "df = pd.merge(df, customer_orders, on='customer_unique_id', how='left')\n",
        "df['is_repeat_buyer'] = df['order_count'].apply(lambda x: 1 if x > 1 else 0)"
      ]
    },
    {
      "cell_type": "code",
      "source": [
        "df['order_purchase_timestamp'] = pd.to_datetime(df['order_purchase_timestamp'])\n",
        "last_purchase = df.groupby('customer_unique_id')['order_purchase_timestamp'].max().reset_index()\n",
        "now = df['order_purchase_timestamp'].max()\n",
        "last_purchase['recency_days'] = (now - last_purchase['order_purchase_timestamp']).dt.days\n",
        "df = pd.merge(df, last_purchase[['customer_unique_id', 'recency_days']], on='customer_unique_id', how='left')"
      ],
      "metadata": {
        "id": "eUo7zM8a-ciC"
      },
      "execution_count": null,
      "outputs": []
    },
    {
      "cell_type": "code",
      "source": [
        "df['purchase_month'] = df['order_purchase_timestamp'].dt.month\n",
        "df['purchase_dayofweek'] = df['order_purchase_timestamp'].dt.dayofweek"
      ],
      "metadata": {
        "id": "9c0FtvQhCqxs"
      },
      "execution_count": null,
      "outputs": []
    },
    {
      "cell_type": "code",
      "source": [
        "df.dtypes"
      ],
      "metadata": {
        "colab": {
          "base_uri": "https://localhost:8080/"
        },
        "id": "l3IPS8TBdun0",
        "outputId": "664ebab4-d174-4928-8b98-b3ea2e97eb65"
      },
      "execution_count": null,
      "outputs": [
        {
          "output_type": "execute_result",
          "data": {
            "text/plain": [
              "order_id                                 object\n",
              "order_status                             object\n",
              "order_purchase_timestamp         datetime64[ns]\n",
              "order_delivered_customer_date            object\n",
              "customer_unique_id                       object\n",
              "zip_code                                  int64\n",
              "city                                     object\n",
              "state                                    object\n",
              "product_id                               object\n",
              "seller_id                                object\n",
              "price                                   float64\n",
              "payment_type                             object\n",
              "payment_installments                    float64\n",
              "payment_value                           float64\n",
              "review_score                            float64\n",
              "product_category_name_english            object\n",
              "order_count                               int64\n",
              "is_repeat_buyer                           int64\n",
              "recency_days                              int64\n",
              "purchase_month                            int32\n",
              "purchase_dayofweek                        int32\n",
              "dtype: object"
            ],
            "text/html": [
              "<div>\n",
              "<style scoped>\n",
              "    .dataframe tbody tr th:only-of-type {\n",
              "        vertical-align: middle;\n",
              "    }\n",
              "\n",
              "    .dataframe tbody tr th {\n",
              "        vertical-align: top;\n",
              "    }\n",
              "\n",
              "    .dataframe thead th {\n",
              "        text-align: right;\n",
              "    }\n",
              "</style>\n",
              "<table border=\"1\" class=\"dataframe\">\n",
              "  <thead>\n",
              "    <tr style=\"text-align: right;\">\n",
              "      <th></th>\n",
              "      <th>0</th>\n",
              "    </tr>\n",
              "  </thead>\n",
              "  <tbody>\n",
              "    <tr>\n",
              "      <th>order_id</th>\n",
              "      <td>object</td>\n",
              "    </tr>\n",
              "    <tr>\n",
              "      <th>order_status</th>\n",
              "      <td>object</td>\n",
              "    </tr>\n",
              "    <tr>\n",
              "      <th>order_purchase_timestamp</th>\n",
              "      <td>datetime64[ns]</td>\n",
              "    </tr>\n",
              "    <tr>\n",
              "      <th>order_delivered_customer_date</th>\n",
              "      <td>object</td>\n",
              "    </tr>\n",
              "    <tr>\n",
              "      <th>customer_unique_id</th>\n",
              "      <td>object</td>\n",
              "    </tr>\n",
              "    <tr>\n",
              "      <th>zip_code</th>\n",
              "      <td>int64</td>\n",
              "    </tr>\n",
              "    <tr>\n",
              "      <th>city</th>\n",
              "      <td>object</td>\n",
              "    </tr>\n",
              "    <tr>\n",
              "      <th>state</th>\n",
              "      <td>object</td>\n",
              "    </tr>\n",
              "    <tr>\n",
              "      <th>product_id</th>\n",
              "      <td>object</td>\n",
              "    </tr>\n",
              "    <tr>\n",
              "      <th>seller_id</th>\n",
              "      <td>object</td>\n",
              "    </tr>\n",
              "    <tr>\n",
              "      <th>price</th>\n",
              "      <td>float64</td>\n",
              "    </tr>\n",
              "    <tr>\n",
              "      <th>payment_type</th>\n",
              "      <td>object</td>\n",
              "    </tr>\n",
              "    <tr>\n",
              "      <th>payment_installments</th>\n",
              "      <td>float64</td>\n",
              "    </tr>\n",
              "    <tr>\n",
              "      <th>payment_value</th>\n",
              "      <td>float64</td>\n",
              "    </tr>\n",
              "    <tr>\n",
              "      <th>review_score</th>\n",
              "      <td>float64</td>\n",
              "    </tr>\n",
              "    <tr>\n",
              "      <th>product_category_name_english</th>\n",
              "      <td>object</td>\n",
              "    </tr>\n",
              "    <tr>\n",
              "      <th>order_count</th>\n",
              "      <td>int64</td>\n",
              "    </tr>\n",
              "    <tr>\n",
              "      <th>is_repeat_buyer</th>\n",
              "      <td>int64</td>\n",
              "    </tr>\n",
              "    <tr>\n",
              "      <th>recency_days</th>\n",
              "      <td>int64</td>\n",
              "    </tr>\n",
              "    <tr>\n",
              "      <th>purchase_month</th>\n",
              "      <td>int32</td>\n",
              "    </tr>\n",
              "    <tr>\n",
              "      <th>purchase_dayofweek</th>\n",
              "      <td>int32</td>\n",
              "    </tr>\n",
              "  </tbody>\n",
              "</table>\n",
              "</div><br><label><b>dtype:</b> object</label>"
            ]
          },
          "metadata": {},
          "execution_count": 15
        }
      ]
    },
    {
      "cell_type": "code",
      "source": [
        "for col in ['product_category_name_english', 'payment_type', 'city', 'state']:\n",
        "    le = LabelEncoder()\n",
        "    df[col] = le.fit_transform(df[col].astype(str))"
      ],
      "metadata": {
        "id": "WFOsOYnmdiew"
      },
      "execution_count": null,
      "outputs": []
    },
    {
      "cell_type": "code",
      "execution_count": null,
      "metadata": {
        "id": "rlI_hO2A0gKV"
      },
      "outputs": [],
      "source": [
        "# 3. Select features for ML (now include new features)\n",
        "features = [\n",
        "    'price',\n",
        "    'payment_type',\n",
        "    'payment_installments',\n",
        "    'payment_value',\n",
        "    'review_score',\n",
        "    'product_category_name_english',\n",
        "    'zip_code',\n",
        "    'city',\n",
        "    'state',\n",
        "    'recency_days',\n",
        "    'purchase_month',\n",
        "    'purchase_dayofweek'\n",
        "]\n",
        "X = df[features]\n",
        "y = df['is_repeat_buyer']"
      ]
    },
    {
      "cell_type": "code",
      "execution_count": null,
      "metadata": {
        "id": "DhWvwkTc0mUA"
      },
      "outputs": [],
      "source": [
        "# 6. Save processed features for future use if needed\n",
        "# X.to_csv('/content/drive/MyDrive/EGT309 Project/prepared_ml_features.csv', index=False)\n",
        "# y.to_csv('/content/drive/MyDrive/EGT309 Project/prepared_ml_target.csv', index=False)"
      ]
    },
    {
      "cell_type": "code",
      "source": [
        "df.head()"
      ],
      "metadata": {
        "colab": {
          "base_uri": "https://localhost:8080/"
        },
        "id": "8uxiWcbGDI_A",
        "outputId": "c7ad3417-ac38-4db7-babf-173acfa86aed"
      },
      "execution_count": null,
      "outputs": [
        {
          "output_type": "execute_result",
          "data": {
            "text/plain": [
              "                           order_id order_status order_purchase_timestamp  \\\n",
              "0  e481f51cbdc54678b7cc49136f2d6af7    delivered      2017-10-02 10:56:33   \n",
              "1  e481f51cbdc54678b7cc49136f2d6af7    delivered      2017-10-02 10:56:33   \n",
              "2  e481f51cbdc54678b7cc49136f2d6af7    delivered      2017-10-02 10:56:33   \n",
              "3  53cdb2fc8bc7dce0b6741e2150273451    delivered      2018-07-24 20:41:37   \n",
              "4  47770eb9100c2d0c44946d9cf07ec65d    delivered      2018-08-08 08:38:49   \n",
              "\n",
              "  order_delivered_customer_date                customer_unique_id  zip_code  \\\n",
              "0           2017-10-10 21:25:13  7c396fd4830fd04220f754e42b4e5bff      3149   \n",
              "1           2017-10-10 21:25:13  7c396fd4830fd04220f754e42b4e5bff      3149   \n",
              "2           2017-10-10 21:25:13  7c396fd4830fd04220f754e42b4e5bff      3149   \n",
              "3           2018-08-07 15:27:45  af07308b275d755c9edb36a90c618231     47813   \n",
              "4           2018-08-17 18:06:29  3a653a41f6f9fc3d2a113cf8398680e8     75265   \n",
              "\n",
              "   city  state                        product_id  \\\n",
              "0  3554     25  87285b34884572647811a353c7ac498a   \n",
              "1  3554     25  87285b34884572647811a353c7ac498a   \n",
              "2  3554     25  87285b34884572647811a353c7ac498a   \n",
              "3   413      4  595fac2a385ac33a80bd5114aec74eb8   \n",
              "4  4005      8  aa4383b373c6aca5d8797843e5594415   \n",
              "\n",
              "                          seller_id  ...  payment_type  payment_installments  \\\n",
              "0  3504c0cb71d7fa48d967e0e4c94d59d9  ...             1                   1.0   \n",
              "1  3504c0cb71d7fa48d967e0e4c94d59d9  ...             4                   1.0   \n",
              "2  3504c0cb71d7fa48d967e0e4c94d59d9  ...             4                   1.0   \n",
              "3  289cdb325fb7e7f891c38608bf9e0962  ...             0                   1.0   \n",
              "4  4869f7a5dfa277a7dca6462dcf3b52b2  ...             1                   3.0   \n",
              "\n",
              "   payment_value  review_score  product_category_name_english  order_count  \\\n",
              "0          18.12           4.0                             49            2   \n",
              "1           2.00           4.0                             49            2   \n",
              "2          18.59           4.0                             49            2   \n",
              "3         141.46           4.0                             59            1   \n",
              "4         179.12           5.0                              5            1   \n",
              "\n",
              "   is_repeat_buyer  recency_days  purchase_month  purchase_dayofweek  \n",
              "0                1           331              10                   0  \n",
              "1                1           331              10                   0  \n",
              "2                1           331              10                   0  \n",
              "3                0            35               7                   1  \n",
              "4                0            21               8                   2  \n",
              "\n",
              "[5 rows x 21 columns]"
            ],
            "text/html": [
              "\n",
              "  <div id=\"df-6affc383-a17d-48b3-9747-521680af9160\" class=\"colab-df-container\">\n",
              "    <div>\n",
              "<style scoped>\n",
              "    .dataframe tbody tr th:only-of-type {\n",
              "        vertical-align: middle;\n",
              "    }\n",
              "\n",
              "    .dataframe tbody tr th {\n",
              "        vertical-align: top;\n",
              "    }\n",
              "\n",
              "    .dataframe thead th {\n",
              "        text-align: right;\n",
              "    }\n",
              "</style>\n",
              "<table border=\"1\" class=\"dataframe\">\n",
              "  <thead>\n",
              "    <tr style=\"text-align: right;\">\n",
              "      <th></th>\n",
              "      <th>order_id</th>\n",
              "      <th>order_status</th>\n",
              "      <th>order_purchase_timestamp</th>\n",
              "      <th>order_delivered_customer_date</th>\n",
              "      <th>customer_unique_id</th>\n",
              "      <th>zip_code</th>\n",
              "      <th>city</th>\n",
              "      <th>state</th>\n",
              "      <th>product_id</th>\n",
              "      <th>seller_id</th>\n",
              "      <th>...</th>\n",
              "      <th>payment_type</th>\n",
              "      <th>payment_installments</th>\n",
              "      <th>payment_value</th>\n",
              "      <th>review_score</th>\n",
              "      <th>product_category_name_english</th>\n",
              "      <th>order_count</th>\n",
              "      <th>is_repeat_buyer</th>\n",
              "      <th>recency_days</th>\n",
              "      <th>purchase_month</th>\n",
              "      <th>purchase_dayofweek</th>\n",
              "    </tr>\n",
              "  </thead>\n",
              "  <tbody>\n",
              "    <tr>\n",
              "      <th>0</th>\n",
              "      <td>e481f51cbdc54678b7cc49136f2d6af7</td>\n",
              "      <td>delivered</td>\n",
              "      <td>2017-10-02 10:56:33</td>\n",
              "      <td>2017-10-10 21:25:13</td>\n",
              "      <td>7c396fd4830fd04220f754e42b4e5bff</td>\n",
              "      <td>3149</td>\n",
              "      <td>3554</td>\n",
              "      <td>25</td>\n",
              "      <td>87285b34884572647811a353c7ac498a</td>\n",
              "      <td>3504c0cb71d7fa48d967e0e4c94d59d9</td>\n",
              "      <td>...</td>\n",
              "      <td>1</td>\n",
              "      <td>1.0</td>\n",
              "      <td>18.12</td>\n",
              "      <td>4.0</td>\n",
              "      <td>49</td>\n",
              "      <td>2</td>\n",
              "      <td>1</td>\n",
              "      <td>331</td>\n",
              "      <td>10</td>\n",
              "      <td>0</td>\n",
              "    </tr>\n",
              "    <tr>\n",
              "      <th>1</th>\n",
              "      <td>e481f51cbdc54678b7cc49136f2d6af7</td>\n",
              "      <td>delivered</td>\n",
              "      <td>2017-10-02 10:56:33</td>\n",
              "      <td>2017-10-10 21:25:13</td>\n",
              "      <td>7c396fd4830fd04220f754e42b4e5bff</td>\n",
              "      <td>3149</td>\n",
              "      <td>3554</td>\n",
              "      <td>25</td>\n",
              "      <td>87285b34884572647811a353c7ac498a</td>\n",
              "      <td>3504c0cb71d7fa48d967e0e4c94d59d9</td>\n",
              "      <td>...</td>\n",
              "      <td>4</td>\n",
              "      <td>1.0</td>\n",
              "      <td>2.00</td>\n",
              "      <td>4.0</td>\n",
              "      <td>49</td>\n",
              "      <td>2</td>\n",
              "      <td>1</td>\n",
              "      <td>331</td>\n",
              "      <td>10</td>\n",
              "      <td>0</td>\n",
              "    </tr>\n",
              "    <tr>\n",
              "      <th>2</th>\n",
              "      <td>e481f51cbdc54678b7cc49136f2d6af7</td>\n",
              "      <td>delivered</td>\n",
              "      <td>2017-10-02 10:56:33</td>\n",
              "      <td>2017-10-10 21:25:13</td>\n",
              "      <td>7c396fd4830fd04220f754e42b4e5bff</td>\n",
              "      <td>3149</td>\n",
              "      <td>3554</td>\n",
              "      <td>25</td>\n",
              "      <td>87285b34884572647811a353c7ac498a</td>\n",
              "      <td>3504c0cb71d7fa48d967e0e4c94d59d9</td>\n",
              "      <td>...</td>\n",
              "      <td>4</td>\n",
              "      <td>1.0</td>\n",
              "      <td>18.59</td>\n",
              "      <td>4.0</td>\n",
              "      <td>49</td>\n",
              "      <td>2</td>\n",
              "      <td>1</td>\n",
              "      <td>331</td>\n",
              "      <td>10</td>\n",
              "      <td>0</td>\n",
              "    </tr>\n",
              "    <tr>\n",
              "      <th>3</th>\n",
              "      <td>53cdb2fc8bc7dce0b6741e2150273451</td>\n",
              "      <td>delivered</td>\n",
              "      <td>2018-07-24 20:41:37</td>\n",
              "      <td>2018-08-07 15:27:45</td>\n",
              "      <td>af07308b275d755c9edb36a90c618231</td>\n",
              "      <td>47813</td>\n",
              "      <td>413</td>\n",
              "      <td>4</td>\n",
              "      <td>595fac2a385ac33a80bd5114aec74eb8</td>\n",
              "      <td>289cdb325fb7e7f891c38608bf9e0962</td>\n",
              "      <td>...</td>\n",
              "      <td>0</td>\n",
              "      <td>1.0</td>\n",
              "      <td>141.46</td>\n",
              "      <td>4.0</td>\n",
              "      <td>59</td>\n",
              "      <td>1</td>\n",
              "      <td>0</td>\n",
              "      <td>35</td>\n",
              "      <td>7</td>\n",
              "      <td>1</td>\n",
              "    </tr>\n",
              "    <tr>\n",
              "      <th>4</th>\n",
              "      <td>47770eb9100c2d0c44946d9cf07ec65d</td>\n",
              "      <td>delivered</td>\n",
              "      <td>2018-08-08 08:38:49</td>\n",
              "      <td>2018-08-17 18:06:29</td>\n",
              "      <td>3a653a41f6f9fc3d2a113cf8398680e8</td>\n",
              "      <td>75265</td>\n",
              "      <td>4005</td>\n",
              "      <td>8</td>\n",
              "      <td>aa4383b373c6aca5d8797843e5594415</td>\n",
              "      <td>4869f7a5dfa277a7dca6462dcf3b52b2</td>\n",
              "      <td>...</td>\n",
              "      <td>1</td>\n",
              "      <td>3.0</td>\n",
              "      <td>179.12</td>\n",
              "      <td>5.0</td>\n",
              "      <td>5</td>\n",
              "      <td>1</td>\n",
              "      <td>0</td>\n",
              "      <td>21</td>\n",
              "      <td>8</td>\n",
              "      <td>2</td>\n",
              "    </tr>\n",
              "  </tbody>\n",
              "</table>\n",
              "<p>5 rows × 21 columns</p>\n",
              "</div>\n",
              "    <div class=\"colab-df-buttons\">\n",
              "\n",
              "  <div class=\"colab-df-container\">\n",
              "    <button class=\"colab-df-convert\" onclick=\"convertToInteractive('df-6affc383-a17d-48b3-9747-521680af9160')\"\n",
              "            title=\"Convert this dataframe to an interactive table.\"\n",
              "            style=\"display:none;\">\n",
              "\n",
              "  <svg xmlns=\"http://www.w3.org/2000/svg\" height=\"24px\" viewBox=\"0 -960 960 960\">\n",
              "    <path d=\"M120-120v-720h720v720H120Zm60-500h600v-160H180v160Zm220 220h160v-160H400v160Zm0 220h160v-160H400v160ZM180-400h160v-160H180v160Zm440 0h160v-160H620v160ZM180-180h160v-160H180v160Zm440 0h160v-160H620v160Z\"/>\n",
              "  </svg>\n",
              "    </button>\n",
              "\n",
              "  <style>\n",
              "    .colab-df-container {\n",
              "      display:flex;\n",
              "      gap: 12px;\n",
              "    }\n",
              "\n",
              "    .colab-df-convert {\n",
              "      background-color: #E8F0FE;\n",
              "      border: none;\n",
              "      border-radius: 50%;\n",
              "      cursor: pointer;\n",
              "      display: none;\n",
              "      fill: #1967D2;\n",
              "      height: 32px;\n",
              "      padding: 0 0 0 0;\n",
              "      width: 32px;\n",
              "    }\n",
              "\n",
              "    .colab-df-convert:hover {\n",
              "      background-color: #E2EBFA;\n",
              "      box-shadow: 0px 1px 2px rgba(60, 64, 67, 0.3), 0px 1px 3px 1px rgba(60, 64, 67, 0.15);\n",
              "      fill: #174EA6;\n",
              "    }\n",
              "\n",
              "    .colab-df-buttons div {\n",
              "      margin-bottom: 4px;\n",
              "    }\n",
              "\n",
              "    [theme=dark] .colab-df-convert {\n",
              "      background-color: #3B4455;\n",
              "      fill: #D2E3FC;\n",
              "    }\n",
              "\n",
              "    [theme=dark] .colab-df-convert:hover {\n",
              "      background-color: #434B5C;\n",
              "      box-shadow: 0px 1px 3px 1px rgba(0, 0, 0, 0.15);\n",
              "      filter: drop-shadow(0px 1px 2px rgba(0, 0, 0, 0.3));\n",
              "      fill: #FFFFFF;\n",
              "    }\n",
              "  </style>\n",
              "\n",
              "    <script>\n",
              "      const buttonEl =\n",
              "        document.querySelector('#df-6affc383-a17d-48b3-9747-521680af9160 button.colab-df-convert');\n",
              "      buttonEl.style.display =\n",
              "        google.colab.kernel.accessAllowed ? 'block' : 'none';\n",
              "\n",
              "      async function convertToInteractive(key) {\n",
              "        const element = document.querySelector('#df-6affc383-a17d-48b3-9747-521680af9160');\n",
              "        const dataTable =\n",
              "          await google.colab.kernel.invokeFunction('convertToInteractive',\n",
              "                                                    [key], {});\n",
              "        if (!dataTable) return;\n",
              "\n",
              "        const docLinkHtml = 'Like what you see? Visit the ' +\n",
              "          '<a target=\"_blank\" href=https://colab.research.google.com/notebooks/data_table.ipynb>data table notebook</a>'\n",
              "          + ' to learn more about interactive tables.';\n",
              "        element.innerHTML = '';\n",
              "        dataTable['output_type'] = 'display_data';\n",
              "        await google.colab.output.renderOutput(dataTable, element);\n",
              "        const docLink = document.createElement('div');\n",
              "        docLink.innerHTML = docLinkHtml;\n",
              "        element.appendChild(docLink);\n",
              "      }\n",
              "    </script>\n",
              "  </div>\n",
              "\n",
              "\n",
              "    <div id=\"df-4151af51-8e40-40cf-89fa-11f377d6dafc\">\n",
              "      <button class=\"colab-df-quickchart\" onclick=\"quickchart('df-4151af51-8e40-40cf-89fa-11f377d6dafc')\"\n",
              "                title=\"Suggest charts\"\n",
              "                style=\"display:none;\">\n",
              "\n",
              "<svg xmlns=\"http://www.w3.org/2000/svg\" height=\"24px\"viewBox=\"0 0 24 24\"\n",
              "     width=\"24px\">\n",
              "    <g>\n",
              "        <path d=\"M19 3H5c-1.1 0-2 .9-2 2v14c0 1.1.9 2 2 2h14c1.1 0 2-.9 2-2V5c0-1.1-.9-2-2-2zM9 17H7v-7h2v7zm4 0h-2V7h2v10zm4 0h-2v-4h2v4z\"/>\n",
              "    </g>\n",
              "</svg>\n",
              "      </button>\n",
              "\n",
              "<style>\n",
              "  .colab-df-quickchart {\n",
              "      --bg-color: #E8F0FE;\n",
              "      --fill-color: #1967D2;\n",
              "      --hover-bg-color: #E2EBFA;\n",
              "      --hover-fill-color: #174EA6;\n",
              "      --disabled-fill-color: #AAA;\n",
              "      --disabled-bg-color: #DDD;\n",
              "  }\n",
              "\n",
              "  [theme=dark] .colab-df-quickchart {\n",
              "      --bg-color: #3B4455;\n",
              "      --fill-color: #D2E3FC;\n",
              "      --hover-bg-color: #434B5C;\n",
              "      --hover-fill-color: #FFFFFF;\n",
              "      --disabled-bg-color: #3B4455;\n",
              "      --disabled-fill-color: #666;\n",
              "  }\n",
              "\n",
              "  .colab-df-quickchart {\n",
              "    background-color: var(--bg-color);\n",
              "    border: none;\n",
              "    border-radius: 50%;\n",
              "    cursor: pointer;\n",
              "    display: none;\n",
              "    fill: var(--fill-color);\n",
              "    height: 32px;\n",
              "    padding: 0;\n",
              "    width: 32px;\n",
              "  }\n",
              "\n",
              "  .colab-df-quickchart:hover {\n",
              "    background-color: var(--hover-bg-color);\n",
              "    box-shadow: 0 1px 2px rgba(60, 64, 67, 0.3), 0 1px 3px 1px rgba(60, 64, 67, 0.15);\n",
              "    fill: var(--button-hover-fill-color);\n",
              "  }\n",
              "\n",
              "  .colab-df-quickchart-complete:disabled,\n",
              "  .colab-df-quickchart-complete:disabled:hover {\n",
              "    background-color: var(--disabled-bg-color);\n",
              "    fill: var(--disabled-fill-color);\n",
              "    box-shadow: none;\n",
              "  }\n",
              "\n",
              "  .colab-df-spinner {\n",
              "    border: 2px solid var(--fill-color);\n",
              "    border-color: transparent;\n",
              "    border-bottom-color: var(--fill-color);\n",
              "    animation:\n",
              "      spin 1s steps(1) infinite;\n",
              "  }\n",
              "\n",
              "  @keyframes spin {\n",
              "    0% {\n",
              "      border-color: transparent;\n",
              "      border-bottom-color: var(--fill-color);\n",
              "      border-left-color: var(--fill-color);\n",
              "    }\n",
              "    20% {\n",
              "      border-color: transparent;\n",
              "      border-left-color: var(--fill-color);\n",
              "      border-top-color: var(--fill-color);\n",
              "    }\n",
              "    30% {\n",
              "      border-color: transparent;\n",
              "      border-left-color: var(--fill-color);\n",
              "      border-top-color: var(--fill-color);\n",
              "      border-right-color: var(--fill-color);\n",
              "    }\n",
              "    40% {\n",
              "      border-color: transparent;\n",
              "      border-right-color: var(--fill-color);\n",
              "      border-top-color: var(--fill-color);\n",
              "    }\n",
              "    60% {\n",
              "      border-color: transparent;\n",
              "      border-right-color: var(--fill-color);\n",
              "    }\n",
              "    80% {\n",
              "      border-color: transparent;\n",
              "      border-right-color: var(--fill-color);\n",
              "      border-bottom-color: var(--fill-color);\n",
              "    }\n",
              "    90% {\n",
              "      border-color: transparent;\n",
              "      border-bottom-color: var(--fill-color);\n",
              "    }\n",
              "  }\n",
              "</style>\n",
              "\n",
              "      <script>\n",
              "        async function quickchart(key) {\n",
              "          const quickchartButtonEl =\n",
              "            document.querySelector('#' + key + ' button');\n",
              "          quickchartButtonEl.disabled = true;  // To prevent multiple clicks.\n",
              "          quickchartButtonEl.classList.add('colab-df-spinner');\n",
              "          try {\n",
              "            const charts = await google.colab.kernel.invokeFunction(\n",
              "                'suggestCharts', [key], {});\n",
              "          } catch (error) {\n",
              "            console.error('Error during call to suggestCharts:', error);\n",
              "          }\n",
              "          quickchartButtonEl.classList.remove('colab-df-spinner');\n",
              "          quickchartButtonEl.classList.add('colab-df-quickchart-complete');\n",
              "        }\n",
              "        (() => {\n",
              "          let quickchartButtonEl =\n",
              "            document.querySelector('#df-4151af51-8e40-40cf-89fa-11f377d6dafc button');\n",
              "          quickchartButtonEl.style.display =\n",
              "            google.colab.kernel.accessAllowed ? 'block' : 'none';\n",
              "        })();\n",
              "      </script>\n",
              "    </div>\n",
              "\n",
              "    </div>\n",
              "  </div>\n"
            ],
            "application/vnd.google.colaboratory.intrinsic+json": {
              "type": "dataframe",
              "variable_name": "df"
            }
          },
          "metadata": {},
          "execution_count": 19
        }
      ]
    },
    {
      "cell_type": "code",
      "source": [
        "df.dtypes"
      ],
      "metadata": {
        "colab": {
          "base_uri": "https://localhost:8080/"
        },
        "id": "yUBTavDAcHYP",
        "outputId": "1fb455de-9f1c-4bb2-8247-8e2d3edba779"
      },
      "execution_count": null,
      "outputs": [
        {
          "output_type": "execute_result",
          "data": {
            "text/plain": [
              "order_id                                 object\n",
              "order_status                             object\n",
              "order_purchase_timestamp         datetime64[ns]\n",
              "order_delivered_customer_date            object\n",
              "customer_unique_id                       object\n",
              "zip_code                                  int64\n",
              "city                                      int64\n",
              "state                                     int64\n",
              "product_id                               object\n",
              "seller_id                                object\n",
              "price                                   float64\n",
              "payment_type                              int64\n",
              "payment_installments                    float64\n",
              "payment_value                           float64\n",
              "review_score                            float64\n",
              "product_category_name_english             int64\n",
              "order_count                               int64\n",
              "is_repeat_buyer                           int64\n",
              "recency_days                              int64\n",
              "purchase_month                            int32\n",
              "purchase_dayofweek                        int32\n",
              "dtype: object"
            ],
            "text/html": [
              "<div>\n",
              "<style scoped>\n",
              "    .dataframe tbody tr th:only-of-type {\n",
              "        vertical-align: middle;\n",
              "    }\n",
              "\n",
              "    .dataframe tbody tr th {\n",
              "        vertical-align: top;\n",
              "    }\n",
              "\n",
              "    .dataframe thead th {\n",
              "        text-align: right;\n",
              "    }\n",
              "</style>\n",
              "<table border=\"1\" class=\"dataframe\">\n",
              "  <thead>\n",
              "    <tr style=\"text-align: right;\">\n",
              "      <th></th>\n",
              "      <th>0</th>\n",
              "    </tr>\n",
              "  </thead>\n",
              "  <tbody>\n",
              "    <tr>\n",
              "      <th>order_id</th>\n",
              "      <td>object</td>\n",
              "    </tr>\n",
              "    <tr>\n",
              "      <th>order_status</th>\n",
              "      <td>object</td>\n",
              "    </tr>\n",
              "    <tr>\n",
              "      <th>order_purchase_timestamp</th>\n",
              "      <td>datetime64[ns]</td>\n",
              "    </tr>\n",
              "    <tr>\n",
              "      <th>order_delivered_customer_date</th>\n",
              "      <td>object</td>\n",
              "    </tr>\n",
              "    <tr>\n",
              "      <th>customer_unique_id</th>\n",
              "      <td>object</td>\n",
              "    </tr>\n",
              "    <tr>\n",
              "      <th>zip_code</th>\n",
              "      <td>int64</td>\n",
              "    </tr>\n",
              "    <tr>\n",
              "      <th>city</th>\n",
              "      <td>int64</td>\n",
              "    </tr>\n",
              "    <tr>\n",
              "      <th>state</th>\n",
              "      <td>int64</td>\n",
              "    </tr>\n",
              "    <tr>\n",
              "      <th>product_id</th>\n",
              "      <td>object</td>\n",
              "    </tr>\n",
              "    <tr>\n",
              "      <th>seller_id</th>\n",
              "      <td>object</td>\n",
              "    </tr>\n",
              "    <tr>\n",
              "      <th>price</th>\n",
              "      <td>float64</td>\n",
              "    </tr>\n",
              "    <tr>\n",
              "      <th>payment_type</th>\n",
              "      <td>int64</td>\n",
              "    </tr>\n",
              "    <tr>\n",
              "      <th>payment_installments</th>\n",
              "      <td>float64</td>\n",
              "    </tr>\n",
              "    <tr>\n",
              "      <th>payment_value</th>\n",
              "      <td>float64</td>\n",
              "    </tr>\n",
              "    <tr>\n",
              "      <th>review_score</th>\n",
              "      <td>float64</td>\n",
              "    </tr>\n",
              "    <tr>\n",
              "      <th>product_category_name_english</th>\n",
              "      <td>int64</td>\n",
              "    </tr>\n",
              "    <tr>\n",
              "      <th>order_count</th>\n",
              "      <td>int64</td>\n",
              "    </tr>\n",
              "    <tr>\n",
              "      <th>is_repeat_buyer</th>\n",
              "      <td>int64</td>\n",
              "    </tr>\n",
              "    <tr>\n",
              "      <th>recency_days</th>\n",
              "      <td>int64</td>\n",
              "    </tr>\n",
              "    <tr>\n",
              "      <th>purchase_month</th>\n",
              "      <td>int32</td>\n",
              "    </tr>\n",
              "    <tr>\n",
              "      <th>purchase_dayofweek</th>\n",
              "      <td>int32</td>\n",
              "    </tr>\n",
              "  </tbody>\n",
              "</table>\n",
              "</div><br><label><b>dtype:</b> object</label>"
            ]
          },
          "metadata": {},
          "execution_count": 20
        }
      ]
    },
    {
      "cell_type": "code",
      "source": [
        "X_train, X_test, y_train, y_test = train_test_split(\n",
        "    X, y, test_size=0.3, random_state=42, shuffle=True)"
      ],
      "metadata": {
        "id": "YooPfEWWbjti"
      },
      "execution_count": null,
      "outputs": []
    },
    {
      "cell_type": "markdown",
      "metadata": {
        "id": "2ZBclkBc13yr"
      },
      "source": [
        "###Initial Model Training"
      ]
    },
    {
      "cell_type": "code",
      "execution_count": null,
      "metadata": {
        "colab": {
          "base_uri": "https://localhost:8080/"
        },
        "id": "9yNti4h2VeS0",
        "outputId": "b22e9c92-1f0c-4d1a-84f9-69757b8af1a6"
      },
      "outputs": [
        {
          "output_type": "stream",
          "name": "stdout",
          "text": [
            "Accuracy: 0.9475731932691372\n",
            "Number of trees: 100\n"
          ]
        }
      ],
      "source": [
        "clf = RandomForestClassifier()   #with default parameters\n",
        "\n",
        "clf.fit(X_train,y_train)\n",
        "acc = clf.score(X_test,y_test)\n",
        "print('Accuracy:', acc)\n",
        "print('Number of trees:', clf.n_estimators)"
      ]
    },
    {
      "cell_type": "code",
      "execution_count": null,
      "metadata": {
        "id": "_Z4YeUdzWhAu"
      },
      "outputs": [],
      "source": [
        "y_train_pred =  clf.predict(X_train)\n",
        "y_train_pred_prob =  clf.predict_proba(X_train)"
      ]
    },
    {
      "cell_type": "code",
      "execution_count": null,
      "metadata": {
        "colab": {
          "base_uri": "https://localhost:8080/"
        },
        "id": "o7VcgQx4WoQI",
        "outputId": "80937445-97e9-41bd-9ff1-00c5bf0438da"
      },
      "outputs": [
        {
          "output_type": "execute_result",
          "data": {
            "text/plain": [
              "array([0, 0, 0, ..., 1, 0, 0])"
            ]
          },
          "metadata": {},
          "execution_count": 24
        }
      ],
      "source": [
        "y_train_pred"
      ]
    },
    {
      "cell_type": "code",
      "execution_count": null,
      "metadata": {
        "colab": {
          "base_uri": "https://localhost:8080/"
        },
        "id": "vvBzHOvAWp-G",
        "outputId": "622c93e5-b54b-4e16-c87b-1079f07f870d"
      },
      "outputs": [
        {
          "output_type": "execute_result",
          "data": {
            "text/plain": [
              "array([[1.  , 0.  ],\n",
              "       [0.99, 0.01],\n",
              "       [0.98, 0.02],\n",
              "       ...,\n",
              "       [0.16, 0.84],\n",
              "       [0.98, 0.02],\n",
              "       [0.99, 0.01]])"
            ]
          },
          "metadata": {},
          "execution_count": 25
        }
      ],
      "source": [
        "y_train_pred_prob"
      ]
    },
    {
      "cell_type": "code",
      "execution_count": null,
      "metadata": {
        "colab": {
          "base_uri": "https://localhost:8080/",
          "height": 559
        },
        "id": "pn8v4djpWrm1",
        "outputId": "3853c8b5-9266-419a-8a02-cc57aa9f8b15"
      },
      "outputs": [
        {
          "output_type": "execute_result",
          "data": {
            "text/plain": [
              "<Axes: xlabel='predict', ylabel='actual'>"
            ]
          },
          "metadata": {},
          "execution_count": 26
        },
        {
          "output_type": "display_data",
          "data": {
            "text/plain": [
              "<Figure size 1000x600 with 1 Axes>"
            ],
            "image/png": "[encoded data removed]"
          },
          "metadata": {}
        }
      ],
      "source": [
        "#Training Distribution map\n",
        "y_train = y_train.replace(True, 1).replace(False, 0).astype(np.int64)\n",
        "y_train_scores = y_train_pred_prob[:, 1]\n",
        "train_predict = pd.DataFrame({'actual': y_train.values,\n",
        "                              'predict': y_train_scores})\n",
        "# train_predict\n",
        "color =np.array([0.5, 0.6, 0.7]).reshape(1,-1)\n",
        "\n",
        "train_predict.plot.scatter(x='predict', y='actual', s=10, alpha=0.05, figsize=(10,6), c= color)"
      ]
    },
    {
      "cell_type": "code",
      "execution_count": null,
      "metadata": {
        "colab": {
          "base_uri": "https://localhost:8080/",
          "height": 564
        },
        "id": "MWhNANSkXXjT",
        "outputId": "62264207-897d-4929-91c0-81a41873c54a"
      },
      "outputs": [
        {
          "output_type": "display_data",
          "data": {
            "text/plain": [
              "<Figure size 1000x600 with 1 Axes>"
            ],
            "image/png": "[encoded data removed]"
          },
          "metadata": {}
        }
      ],
      "source": [
        "import matplotlib.pyplot as plt\n",
        "\n",
        "plt.figure(figsize=(10,6))\n",
        "plt.hist(y_train_scores[y_train==0], bins=50, alpha=0.6, label='Class 0')\n",
        "plt.hist(y_train_scores[y_train==1], bins=50, alpha=0.6, label='Class 1')\n",
        "plt.title('Distribution of Predicted Probabilities')\n",
        "plt.xlabel('Predicted Probability for Class 1')\n",
        "plt.ylabel('Count')\n",
        "plt.legend()\n",
        "plt.show()"
      ]
    },
    {
      "cell_type": "code",
      "execution_count": null,
      "metadata": {
        "id": "LUcRblb1XliM"
      },
      "outputs": [],
      "source": [
        "from sklearn.metrics import precision_recall_curve\n",
        "precisions, recalls, thresholds = precision_recall_curve(y_train, y_train_scores)"
      ]
    },
    {
      "cell_type": "code",
      "execution_count": null,
      "metadata": {
        "colab": {
          "base_uri": "https://localhost:8080/",
          "height": 399
        },
        "id": "FDK52WZYXm7H",
        "outputId": "29b553d5-68e3-440a-8ed8-75f81f66b2e2"
      },
      "outputs": [
        {
          "output_type": "display_data",
          "data": {
            "text/plain": [
              "<Figure size 800x400 with 1 Axes>"
            ],
            "image/png": "[encoded data removed]"
          },
          "metadata": {}
        }
      ],
      "source": [
        "def plot_precision_recall_curve(precisions, recalls, thresholds):\n",
        "    plt.plot(thresholds, precisions[:-1], \"b--\", label=\"Precision\", linewidth=2)\n",
        "    plt.plot(thresholds, recalls[:-1], \"g-\", label=\"Recall\", linewidth=2)\n",
        "    plt.xlabel(\"Threshold\", fontsize=16)\n",
        "    plt.legend(loc=\"upper right\", fontsize=16)\n",
        "    plt.xlim([0, 1])\n",
        "    plt.ylim([0, 1])\n",
        "\n",
        "plt.figure(figsize=(8, 4))\n",
        "plot_precision_recall_curve(precisions, recalls, thresholds)\n",
        "plt.show()"
      ]
    },
    {
      "cell_type": "code",
      "execution_count": null,
      "metadata": {
        "colab": {
          "base_uri": "https://localhost:8080/"
        },
        "id": "90Gt6NlIX0eP",
        "outputId": "61dc273b-9c1b-49d5-dcda-c12c2edf40eb"
      },
      "outputs": [
        {
          "output_type": "stream",
          "name": "stdout",
          "text": [
            "              precision    recall  f1-score   support\n",
            "\n",
            "           0       1.00      1.00      1.00     67243\n",
            "           1       1.00      1.00      1.00      4723\n",
            "\n",
            "    accuracy                           1.00     71966\n",
            "   macro avg       1.00      1.00      1.00     71966\n",
            "weighted avg       1.00      1.00      1.00     71966\n",
            "\n"
          ]
        }
      ],
      "source": [
        "threshold = 0.2  # Or any value from your plot\n",
        "y_pred_custom = (y_train_scores > threshold).astype(int)\n",
        "print(classification_report(y_train, y_pred_custom))"
      ]
    },
    {
      "cell_type": "markdown",
      "metadata": {
        "id": "ITzkBOiJYSnx"
      },
      "source": [
        "#Trying on test set"
      ]
    },
    {
      "cell_type": "code",
      "execution_count": null,
      "metadata": {
        "colab": {
          "base_uri": "https://localhost:8080/"
        },
        "id": "ykkiSvYvYSb_",
        "outputId": "03c29f4c-371d-4e5c-e2c6-d2a0e5eabbe5"
      },
      "outputs": [
        {
          "output_type": "execute_result",
          "data": {
            "text/plain": [
              "array([[0.94, 0.06],\n",
              "       [0.89, 0.11],\n",
              "       [1.  , 0.  ],\n",
              "       ...,\n",
              "       [0.99, 0.01],\n",
              "       [0.8 , 0.2 ],\n",
              "       [0.93, 0.07]])"
            ]
          },
          "metadata": {},
          "execution_count": 36
        }
      ],
      "source": [
        "y_test_pred_prob = clf.predict_proba(X_test)\n",
        "y_test_pred_prob"
      ]
    },
    {
      "cell_type": "code",
      "execution_count": null,
      "metadata": {
        "colab": {
          "base_uri": "https://localhost:8080/"
        },
        "id": "cuMBQU1dYZS3",
        "outputId": "925540fe-f0de-4db6-ae77-c8fcbe76c588"
      },
      "outputs": [
        {
          "output_type": "execute_result",
          "data": {
            "text/plain": [
              "array([0.06, 0.11, 0.  , ..., 0.01, 0.2 , 0.07])"
            ]
          },
          "metadata": {},
          "execution_count": 37
        }
      ],
      "source": [
        "y_test_scores = y_test_pred_prob[:, 1]\n",
        "y_test_scores"
      ]
    },
    {
      "cell_type": "code",
      "execution_count": null,
      "metadata": {
        "colab": {
          "base_uri": "https://localhost:8080/"
        },
        "id": "6KsORzTiYsKn",
        "outputId": "d8f319fa-1a82-495b-b670-c3776014c516"
      },
      "outputs": [
        {
          "output_type": "stream",
          "name": "stdout",
          "text": [
            "              precision    recall  f1-score   support\n",
            "\n",
            "           0       0.96      0.98      0.97     28847\n",
            "           1       0.68      0.47      0.56      1996\n",
            "\n",
            "    accuracy                           0.95     30843\n",
            "   macro avg       0.82      0.73      0.77     30843\n",
            "weighted avg       0.95      0.95      0.95     30843\n",
            "\n"
          ]
        }
      ],
      "source": [
        "threshold = 0.2\n",
        "y_pred_test_custom = (y_test_scores > threshold).astype(int)\n",
        "\n",
        "# Print the classification report\n",
        "from sklearn.metrics import classification_report\n",
        "print(classification_report(y_test, y_pred_test_custom))"
      ]
    },
    {
      "cell_type": "markdown",
      "metadata": {
        "id": "aM_rj7FeZnwk"
      },
      "source": [
        "#Find best threshold"
      ]
    },
    {
      "cell_type": "code",
      "execution_count": null,
      "metadata": {
        "colab": {
          "base_uri": "https://localhost:8080/"
        },
        "id": "CMsTRcgeZpn2",
        "outputId": "f27d9f4f-4dd4-464b-c486-aca122f52085"
      },
      "outputs": [
        {
          "output_type": "stream",
          "name": "stdout",
          "text": [
            "Best threshold for F1: 0.220\n",
            "Best F1 score: 0.562\n",
            "              precision    recall  f1-score   support\n",
            "\n",
            "           0       0.96      0.99      0.98     28847\n",
            "           1       0.75      0.45      0.56      1996\n",
            "\n",
            "    accuracy                           0.95     30843\n",
            "   macro avg       0.85      0.72      0.77     30843\n",
            "weighted avg       0.95      0.95      0.95     30843\n",
            "\n"
          ]
        }
      ],
      "source": [
        "from sklearn.metrics import precision_recall_curve, f1_score\n",
        "import numpy as np\n",
        "\n",
        "# Get predicted probabilities for class 1\n",
        "y_test_scores = clf.predict_proba(X_test)[:, 1]\n",
        "\n",
        "# Calculate precision, recall, and thresholds\n",
        "precisions, recalls, thresholds = precision_recall_curve(y_test, y_test_scores)\n",
        "\n",
        "# Compute F1 for each threshold\n",
        "f1s = 2 * (precisions * recalls) / (precisions + recalls + 1e-10)\n",
        "\n",
        "# Exclude last value (thresholds is len-1 of precisions/recalls)\n",
        "best_idx = np.argmax(f1s[:-1])\n",
        "best_threshold = thresholds[best_idx]\n",
        "best_f1 = f1s[best_idx]\n",
        "\n",
        "print(f\"Best threshold for F1: {best_threshold:.3f}\")\n",
        "print(f\"Best F1 score: {best_f1:.3f}\")\n",
        "\n",
        "# Predict using the best threshold\n",
        "y_pred_best_thresh = (y_test_scores > best_threshold).astype(int)\n",
        "from sklearn.metrics import classification_report\n",
        "print(classification_report(y_test, y_pred_best_thresh))"
      ]
    },
    {
      "cell_type": "code",
      "execution_count": null,
      "metadata": {
        "colab": {
          "base_uri": "https://localhost:8080/"
        },
        "id": "_dMuVWn1Z4Bo",
        "outputId": "2cefafc7-4fdd-4df8-91d7-44f1ec2e7de8"
      },
      "outputs": [
        {
          "output_type": "stream",
          "name": "stdout",
          "text": [
            "Threshold: 0.10, Recall for class 1: 0.677, Precision: 0.242, F1: 0.357\n",
            "Threshold: 0.15, Recall for class 1: 0.562, Precision: 0.444, F1: 0.496\n",
            "Threshold: 0.20, Recall for class 1: 0.475, Precision: 0.676, F1: 0.558\n",
            "Threshold: 0.25, Recall for class 1: 0.402, Precision: 0.836, F1: 0.543\n",
            "Threshold: 0.30, Recall for class 1: 0.351, Precision: 0.923, F1: 0.508\n",
            "Threshold: 0.35, Recall for class 1: 0.308, Precision: 0.958, F1: 0.466\n",
            "Threshold: 0.40, Recall for class 1: 0.264, Precision: 0.978, F1: 0.415\n",
            "Threshold: 0.45, Recall for class 1: 0.219, Precision: 0.991, F1: 0.359\n"
          ]
        }
      ],
      "source": [
        "for t in np.arange(0.1, 0.5, 0.05):\n",
        "    y_pred = (y_test_scores > t).astype(int)\n",
        "    report = classification_report(y_test, y_pred, output_dict=True)\n",
        "    print(f\"Threshold: {t:.2f}, Recall for class 1: {report['1']['recall']:.3f}, Precision: {report['1']['precision']:.3f}, F1: {report['1']['f1-score']:.3f}\")"
      ]
    },
    {
      "cell_type": "code",
      "source": [
        "#feature importance\n",
        "feature_imp = pd.Series(clf.feature_importances_, index=X.columns).sort_values(ascending=False)\n",
        "fig = plt.figure()\n",
        "ax = feature_imp.plot(kind='bar')\n",
        "ax.set(ylabel='Relative Importance');"
      ],
      "metadata": {
        "colab": {
          "base_uri": "https://localhost:8080/",
          "height": 641
        },
        "id": "_YJCFpVcGbc1",
        "outputId": "23cbf205-f419-4424-d9dc-c4996dbdbdec"
      },
      "execution_count": null,
      "outputs": [
        {
          "output_type": "display_data",
          "data": {
            "text/plain": [
              "<Figure size 640x480 with 1 Axes>"
            ],
            "image/png": "[encoded data removed]"
          },
          "metadata": {}
        }
      ]
    },
    {
      "cell_type": "markdown",
      "metadata": {
        "id": "RWlP2-tmaHA3"
      },
      "source": [
        "##Fine-tuning Hyperparameters"
      ]
    },
    {
      "cell_type": "code",
      "source": [
        "from sklearn.ensemble import RandomForestClassifier\n",
        "from sklearn.model_selection import GridSearchCV\n",
        "\n",
        "param_grid = {\n",
        "    'n_estimators': [300, 400, 500],\n",
        "    'max_depth': [20,30,40],\n",
        "    'min_samples_split': [2, 5, 8],\n",
        "    'min_samples_leaf': [2, 4, 6],\n",
        "}\n",
        "\n",
        "rf = RandomForestClassifier(random_state=42, n_jobs=-1)\n",
        "grid = GridSearchCV(\n",
        "    rf,\n",
        "    param_grid,\n",
        "    scoring='f1',\n",
        "    cv=2,\n",
        "    verbose=2,\n",
        "    n_jobs=-1\n",
        ")\n",
        "grid.fit(X_train, y_train)\n",
        "print(\"Best parameters:\", grid.best_params_)\n",
        "print(\"Best F1 score:\", grid.best_score_)"
      ],
      "metadata": {
        "colab": {
          "base_uri": "https://localhost:8080/"
        },
        "id": "JPjL8xbiIMYz",
        "outputId": "e03cccd3-45d5-4555-adc6-fd4ad18618f0"
      },
      "execution_count": null,
      "outputs": [
        {
          "output_type": "stream",
          "name": "stdout",
          "text": [
            "Fitting 2 folds for each of 81 candidates, totalling 162 fits\n",
            "Best parameters: {'max_depth': 15, 'min_samples_leaf': 2, 'min_samples_split': 2, 'n_estimators': 300}\n",
            "Best F1 score: 0.04260788786757459\n"
          ]
        }
      ]
    },
    {
      "cell_type": "code",
      "source": [
        "train_pred = grid.predict(X_train)\n",
        "test_pred = grid.predict(X_test)\n",
        "\n",
        "from sklearn.metrics import f1_score\n",
        "\n",
        "print(\"Training F1:\", f1_score(y_train, train_pred, pos_label=1))\n",
        "print(\"Test F1:\", f1_score(y_test, test_pred, pos_label=1))"
      ],
      "metadata": {
        "colab": {
          "base_uri": "https://localhost:8080/"
        },
        "id": "Joehca8aXITO",
        "outputId": "a072c826-8391-4bb5-94e5-89f21c0211bb"
      },
      "execution_count": null,
      "outputs": [
        {
          "output_type": "stream",
          "name": "stdout",
          "text": [
            "Training F1: 0.15822291504286828\n",
            "Test F1: 0.06298449612403101\n"
          ]
        }
      ]
    },
    {
      "cell_type": "code",
      "source": [
        "for depth in [10, 15, 20]:\n",
        "    for leaf in [2, 4, 8]:\n",
        "        clf2 = RandomForestClassifier(\n",
        "            n_estimators=100,\n",
        "            max_depth=depth,\n",
        "            min_samples_leaf=leaf,\n",
        "            min_samples_split=2,\n",
        "            random_state=42\n",
        "        )\n",
        "        clf2.fit(X_train, y_train)\n",
        "        train_f1 = f1_score(y_train, clf2.predict(X_train), pos_label=1)\n",
        "        test_f1 = f1_score(y_test, clf2.predict(X_test), pos_label=1)\n",
        "        print(f\"Depth: {depth}, Min leaf: {leaf} --> Train F1: {train_f1:.3f}, Test F1: {test_f1:.3f}\")\n"
      ],
      "metadata": {
        "colab": {
          "base_uri": "https://localhost:8080/"
        },
        "id": "wrZiEmV5Xn7y",
        "outputId": "4f213bf9-c58f-4736-c723-38796de3f8d8"
      },
      "execution_count": null,
      "outputs": [
        {
          "output_type": "stream",
          "name": "stdout",
          "text": [
            "Depth: 10, Min leaf: 2 --> Train F1: 0.028, Test F1: 0.011\n",
            "Depth: 10, Min leaf: 4 --> Train F1: 0.025, Test F1: 0.012\n",
            "Depth: 10, Min leaf: 8 --> Train F1: 0.018, Test F1: 0.005\n",
            "Depth: 15, Min leaf: 2 --> Train F1: 0.158, Test F1: 0.064\n",
            "Depth: 15, Min leaf: 4 --> Train F1: 0.093, Test F1: 0.038\n",
            "Depth: 15, Min leaf: 8 --> Train F1: 0.054, Test F1: 0.026\n",
            "Depth: 20, Min leaf: 2 --> Train F1: 0.365, Test F1: 0.124\n",
            "Depth: 20, Min leaf: 4 --> Train F1: 0.198, Test F1: 0.073\n",
            "Depth: 20, Min leaf: 8 --> Train F1: 0.084, Test F1: 0.040\n"
          ]
        }
      ]
    },
    {
      "cell_type": "code",
      "source": [
        "y_proba = clf2.predict_proba(X_test)[:, 1]\n",
        "y_pred_thresh = (y_proba > 0.2).astype(int)\n",
        "print(f1_score(y_test, y_pred_thresh, pos_label=1))\n"
      ],
      "metadata": {
        "colab": {
          "base_uri": "https://localhost:8080/"
        },
        "id": "1UyfWbj7d-kS",
        "outputId": "734bf196-b2c8-4a32-aea7-17a13f7af564"
      },
      "execution_count": null,
      "outputs": [
        {
          "output_type": "stream",
          "name": "stdout",
          "text": [
            "0.3561859732072498\n"
          ]
        }
      ]
    },
    {
      "cell_type": "code",
      "source": [
        "from sklearn.ensemble import RandomForestClassifier\n",
        "from sklearn.model_selection import GridSearchCV\n",
        "from sklearn.metrics import f1_score\n",
        "\n",
        "# Use your best engineered features in X_train, X_test\n",
        "\n",
        "param_grid = {\n",
        "    'n_estimators': [500, 700, 900],\n",
        "    'max_depth': [20,25,30],\n",
        "    'min_samples_leaf': [7,10],\n",
        "    'min_samples_split': [7,10],\n",
        "    'max_features': ['sqrt'],\n",
        "}\n",
        "\n",
        "rf = RandomForestClassifier(class_weight = 'balanced' , random_state=42, n_jobs=-1)\n",
        "grid1 = GridSearchCV(\n",
        "    rf,\n",
        "    param_grid,\n",
        "    scoring='recall',\n",
        "    cv=5,\n",
        "    verbose=2,\n",
        "    n_jobs=-1\n",
        ")\n",
        "grid1.fit(X_train, y_train)\n",
        "\n",
        "print(\"Best parameters:\", grid1.best_params_)\n",
        "print(\"Best F1 score (CV):\", grid1.best_score_)"
      ],
      "metadata": {
        "colab": {
          "base_uri": "https://localhost:8080/"
        },
        "id": "j2Pt5WaaevFO",
        "outputId": "ee6d70a2-4081-4069-b224-acf292f181f8"
      },
      "execution_count": null,
      "outputs": [
        {
          "output_type": "stream",
          "name": "stdout",
          "text": [
            "Fitting 5 folds for each of 36 candidates, totalling 180 fits\n"
          ]
        },
        {
          "output_type": "stream",
          "name": "stderr",
          "text": [
            "/usr/local/lib/python3.11/dist-packages/joblib/externals/loky/process_executor.py:782: UserWarning: A worker stopped while some jobs were given to the executor. This can be caused by a too short worker timeout or by a memory leak.\n",
            "  warnings.warn(\n"
          ]
        },
        {
          "output_type": "stream",
          "name": "stdout",
          "text": [
            "Best parameters: {'max_depth': 20, 'max_features': 'sqrt', 'min_samples_leaf': 10, 'min_samples_split': 7, 'n_estimators': 700}\n",
            "Best F1 score (CV): 0.2187149134606762\n"
          ]
        }
      ]
    },
    {
      "cell_type": "code",
      "source": [
        "# Evaluate on test set\n",
        "from sklearn.metrics import classification_report\n",
        "\n",
        "y_test_pred_proba = grid1.best_estimator_.predict_proba(X_test)[:, 1]\n",
        "best_thresh = 0.2   # Or use your best found threshold\n",
        "y_test_pred = (y_test_pred_proba > best_thresh).astype(int)\n",
        "print(classification_report(y_test, y_test_pred))"
      ],
      "metadata": {
        "id": "bLdAeecqezWx",
        "colab": {
          "base_uri": "https://localhost:8080/"
        },
        "outputId": "84a53761-8bd2-4d49-af95-79305a727bd9"
      },
      "execution_count": null,
      "outputs": [
        {
          "output_type": "stream",
          "name": "stdout",
          "text": [
            "              precision    recall  f1-score   support\n",
            "\n",
            "           0       0.98      0.26      0.41     28847\n",
            "           1       0.08      0.93      0.15      1996\n",
            "\n",
            "    accuracy                           0.30     30843\n",
            "   macro avg       0.53      0.60      0.28     30843\n",
            "weighted avg       0.92      0.30      0.39     30843\n",
            "\n"
          ]
        }
      ]
    },
    {
      "cell_type": "markdown",
      "source": [
        "#LightGBM"
      ],
      "metadata": {
        "id": "eAD1Ci11bwkh"
      }
    },
    {
      "cell_type": "code",
      "source": [
        "print(X.dtypes)"
      ],
      "metadata": {
        "colab": {
          "base_uri": "https://localhost:8080/"
        },
        "id": "rB6oxKR7dR1U",
        "outputId": "8eee2b56-ff9f-4ac4-c294-381cce226549"
      },
      "execution_count": null,
      "outputs": [
        {
          "output_type": "stream",
          "name": "stdout",
          "text": [
            "price                            float64\n",
            "payment_type                       int64\n",
            "payment_installments             float64\n",
            "payment_value                    float64\n",
            "review_score                     float64\n",
            "product_category_name_english      int64\n",
            "zip_code                           int64\n",
            "city                               int64\n",
            "state                              int64\n",
            "recency_days                       int64\n",
            "purchase_month                     int32\n",
            "purchase_dayofweek                 int32\n",
            "dtype: object\n"
          ]
        }
      ]
    },
    {
      "cell_type": "code",
      "source": [
        "import lightgbm as lgb\n",
        "from sklearn.metrics import f1_score, classification_report\n",
        "\n",
        "# Create and train the model\n",
        "lgbm = lgb.LGBMClassifier(\n",
        "    n_estimators=500,\n",
        "    learning_rate=0.05,\n",
        "    num_leaves=31,\n",
        "    max_depth=10,\n",
        "    class_weight='balanced',\n",
        "    random_state=42,\n",
        "    n_jobs=-1\n",
        ")\n",
        "\n",
        "lgbm.fit(X_train, y_train)\n",
        "\n",
        "# Predict probabilities for threshold tuning\n",
        "y_proba = lgbm.predict_proba(X_test)[:, 1]"
      ],
      "metadata": {
        "colab": {
          "base_uri": "https://localhost:8080/"
        },
        "id": "LWWG6ys2b157",
        "outputId": "ca6713f5-9eb7-4f9f-e926-e21a2eb2852d"
      },
      "execution_count": null,
      "outputs": [
        {
          "output_type": "stream",
          "name": "stdout",
          "text": [
            "[LightGBM] [Info] Number of positive: 4723, number of negative: 67243\n",
            "[LightGBM] [Info] Auto-choosing row-wise multi-threading, the overhead of testing was 0.002722 seconds.\n",
            "You can set `force_row_wise=true` to remove the overhead.\n",
            "And if memory is not enough, you can set `force_col_wise=true`.\n",
            "[LightGBM] [Info] Total Bins 1423\n",
            "[LightGBM] [Info] Number of data points in the train set: 71966, number of used features: 12\n",
            "[LightGBM] [Info] [binary:BoostFromScore]: pavg=0.500000 -> initscore=0.000000\n",
            "[LightGBM] [Info] Start training from score 0.000000\n",
            "F1-score: 0.1433558473097063\n",
            "              precision    recall  f1-score   support\n",
            "\n",
            "           0       0.98      0.22      0.36     28847\n",
            "           1       0.08      0.95      0.14      1996\n",
            "\n",
            "    accuracy                           0.27     30843\n",
            "   macro avg       0.53      0.58      0.25     30843\n",
            "weighted avg       0.92      0.27      0.35     30843\n",
            "\n"
          ]
        }
      ]
    },
    {
      "cell_type": "code",
      "source": [
        "# Try your best threshold (e.g., 0.2)\n",
        "threshold = 0.6\n",
        "y_pred_thresh = (y_proba > threshold).astype(int)\n",
        "\n",
        "# Evaluate\n",
        "print(\"F1-score:\", f1_score(y_test, y_pred_thresh, pos_label=1))\n",
        "print(classification_report(y_test, y_pred_thresh))"
      ],
      "metadata": {
        "colab": {
          "base_uri": "https://localhost:8080/"
        },
        "id": "54DRKmL_gGQn",
        "outputId": "28fd0d8f-a457-4132-9ba9-2042b4af6b89"
      },
      "execution_count": null,
      "outputs": [
        {
          "output_type": "stream",
          "name": "stdout",
          "text": [
            "F1-score: 0.46601941747572817\n",
            "              precision    recall  f1-score   support\n",
            "\n",
            "           0       0.96      0.97      0.97     28847\n",
            "           1       0.50      0.43      0.47      1996\n",
            "\n",
            "    accuracy                           0.94     30843\n",
            "   macro avg       0.73      0.70      0.72     30843\n",
            "weighted avg       0.93      0.94      0.93     30843\n",
            "\n"
          ]
        }
      ]
    },
    {
      "cell_type": "code",
      "source": [
        "y_test_scores = y_proba  # Probabilities for class 1"
      ],
      "metadata": {
        "id": "JwKuXSYEfr9i"
      },
      "execution_count": null,
      "outputs": []
    },
    {
      "cell_type": "code",
      "source": [
        "import matplotlib.pyplot as plt\n",
        "\n",
        "plt.figure(figsize=(10,6))\n",
        "plt.hist(y_test_scores[y_test == 0], bins=50, alpha=0.6, label='Class 0')\n",
        "plt.hist(y_test_scores[y_test == 1], bins=50, alpha=0.6, label='Class 1')\n",
        "plt.title('Distribution of Predicted Probabilities (LightGBM)')\n",
        "plt.xlabel('Predicted Probability for Class 1')\n",
        "plt.ylabel('Count')\n",
        "plt.legend()\n",
        "plt.show()"
      ],
      "metadata": {
        "colab": {
          "base_uri": "https://localhost:8080/",
          "height": 564
        },
        "id": "2x-iXuA4fu5e",
        "outputId": "169219a7-ca4f-4b56-a82f-33871431cae0"
      },
      "execution_count": null,
      "outputs": [
        {
          "output_type": "display_data",
          "data": {
            "text/plain": [
              "<Figure size 1000x600 with 1 Axes>"
            ],
            "image/png": "[encoded data removed]"
          },
          "metadata": {}
        }
      ]
    },
    {
      "cell_type": "markdown",
      "source": [
        "#Optimization"
      ],
      "metadata": {
        "id": "-K8SPtXdhE3f"
      }
    },
    {
      "cell_type": "code",
      "source": [
        "from sklearn.model_selection import RandomizedSearchCV\n",
        "import lightgbm as lgb\n",
        "import numpy as np\n",
        "\n",
        "# Calculate scale_pos_weight\n",
        "scale_weight = (y_train == 0).sum() / (y_train == 1).sum()\n",
        "\n",
        "param_grid = {\n",
        "    'num_leaves': [7, 15, 31, 63, 127],\n",
        "    'max_depth': [3, 5, 7, 10, 15],\n",
        "    'min_child_samples': [5, 10, 20, 50, 100],\n",
        "    'scale_pos_weight': [1, 3, 7, 10, int(scale_weight)],\n",
        "    'learning_rate': [0.01, 0.05, 0.1],\n",
        "    'n_estimators': [200, 400, 600],\n",
        "    'class_weight': ['balanced']\n",
        "}\n",
        "\n",
        "lgbm = lgb.LGBMClassifier(\n",
        "    random_state=42,\n",
        "    n_jobs=-1\n",
        ")\n",
        "\n",
        "rs = RandomizedSearchCV(\n",
        "    lgbm,\n",
        "    param_distributions=param_grid,\n",
        "    n_iter=30,          # Try more for thorough search\n",
        "    scoring='f1',       # Or use make_scorer for class 1 only\n",
        "    cv=3,\n",
        "    verbose=2,\n",
        "    n_jobs=-1\n",
        ")\n",
        "\n",
        "rs.fit(X_train, y_train)\n",
        "\n",
        "print(\"Best params:\", rs.best_params_)\n",
        "print(\"Best CV F1:\", rs.best_score_)"
      ],
      "metadata": {
        "colab": {
          "base_uri": "https://localhost:8080/"
        },
        "id": "CpNaKFQGhElz",
        "outputId": "1f9c6779-db27-4896-9b67-1306b27f3596"
      },
      "execution_count": null,
      "outputs": [
        {
          "output_type": "stream",
          "name": "stdout",
          "text": [
            "Fitting 3 folds for each of 30 candidates, totalling 90 fits\n",
            "[LightGBM] [Info] Number of positive: 4723, number of negative: 67243\n",
            "[LightGBM] [Info] Auto-choosing col-wise multi-threading, the overhead of testing was 0.063349 seconds.\n",
            "You can set `force_col_wise=true` to remove the overhead.\n",
            "[LightGBM] [Info] Total Bins 1423\n",
            "[LightGBM] [Info] Number of data points in the train set: 71966, number of used features: 12\n",
            "[LightGBM] [Info] [binary:BoostFromScore]: pavg=0.500000 -> initscore=0.000000\n",
            "[LightGBM] [Info] Start training from score 0.000000\n",
            "[LightGBM] [Warning] No further splits with positive gain, best gain: -inf\n",
            "[LightGBM] [Warning] No further splits with positive gain, best gain: -inf\n",
            "[LightGBM] [Warning] No further splits with positive gain, best gain: -inf\n",
            "[LightGBM] [Warning] No further splits with positive gain, best gain: -inf\n",
            "[LightGBM] [Warning] No further splits with positive gain, best gain: -inf\n",
            "[LightGBM] [Warning] No further splits with positive gain, best gain: -inf\n",
            "[LightGBM] [Warning] No further splits with positive gain, best gain: -inf\n",
            "[LightGBM] [Warning] No further splits with positive gain, best gain: -inf\n",
            "[LightGBM] [Warning] No further splits with positive gain, best gain: -inf\n",
            "[LightGBM] [Warning] No further splits with positive gain, best gain: -inf\n",
            "[LightGBM] [Warning] No further splits with positive gain, best gain: -inf\n",
            "[LightGBM] [Warning] No further splits with positive gain, best gain: -inf\n",
            "[LightGBM] [Warning] No further splits with positive gain, best gain: -inf\n",
            "[LightGBM] [Warning] No further splits with positive gain, best gain: -inf\n",
            "[LightGBM] [Warning] No further splits with positive gain, best gain: -inf\n",
            "[LightGBM] [Warning] No further splits with positive gain, best gain: -inf\n",
            "[LightGBM] [Warning] No further splits with positive gain, best gain: -inf\n",
            "[LightGBM] [Warning] No further splits with positive gain, best gain: -inf\n",
            "[LightGBM] [Warning] No further splits with positive gain, best gain: -inf\n",
            "[LightGBM] [Warning] No further splits with positive gain, best gain: -inf\n",
            "[LightGBM] [Warning] No further splits with positive gain, best gain: -inf\n",
            "[LightGBM] [Warning] No further splits with positive gain, best gain: -inf\n",
            "[LightGBM] [Warning] No further splits with positive gain, best gain: -inf\n",
            "[LightGBM] [Warning] No further splits with positive gain, best gain: -inf\n",
            "[LightGBM] [Warning] No further splits with positive gain, best gain: -inf\n",
            "[LightGBM] [Warning] No further splits with positive gain, best gain: -inf\n",
            "[LightGBM] [Warning] No further splits with positive gain, best gain: -inf\n",
            "[LightGBM] [Warning] No further splits with positive gain, best gain: -inf\n",
            "[LightGBM] [Warning] No further splits with positive gain, best gain: -inf\n",
            "[LightGBM] [Warning] No further splits with positive gain, best gain: -inf\n",
            "[LightGBM] [Warning] No further splits with positive gain, best gain: -inf\n",
            "[LightGBM] [Warning] No further splits with positive gain, best gain: -inf\n",
            "[LightGBM] [Warning] No further splits with positive gain, best gain: -inf\n",
            "[LightGBM] [Warning] No further splits with positive gain, best gain: -inf\n",
            "[LightGBM] [Warning] No further splits with positive gain, best gain: -inf\n",
            "[LightGBM] [Warning] No further splits with positive gain, best gain: -inf\n",
            "[LightGBM] [Warning] No further splits with positive gain, best gain: -inf\n",
            "[LightGBM] [Warning] No further splits with positive gain, best gain: -inf\n",
            "[LightGBM] [Warning] No further splits with positive gain, best gain: -inf\n",
            "[LightGBM] [Warning] No further splits with positive gain, best gain: -inf\n",
            "[LightGBM] [Warning] No further splits with positive gain, best gain: -inf\n",
            "[LightGBM] [Warning] No further splits with positive gain, best gain: -inf\n",
            "[LightGBM] [Warning] No further splits with positive gain, best gain: -inf\n",
            "[LightGBM] [Warning] No further splits with positive gain, best gain: -inf\n",
            "[LightGBM] [Warning] No further splits with positive gain, best gain: -inf\n",
            "[LightGBM] [Warning] No further splits with positive gain, best gain: -inf\n",
            "[LightGBM] [Warning] No further splits with positive gain, best gain: -inf\n",
            "[LightGBM] [Warning] No further splits with positive gain, best gain: -inf\n",
            "[LightGBM] [Warning] No further splits with positive gain, best gain: -inf\n",
            "[LightGBM] [Warning] No further splits with positive gain, best gain: -inf\n",
            "[LightGBM] [Warning] No further splits with positive gain, best gain: -inf\n",
            "[LightGBM] [Warning] No further splits with positive gain, best gain: -inf\n",
            "[LightGBM] [Warning] No further splits with positive gain, best gain: -inf\n",
            "[LightGBM] [Warning] No further splits with positive gain, best gain: -inf\n",
            "[LightGBM] [Warning] No further splits with positive gain, best gain: -inf\n",
            "[LightGBM] [Warning] No further splits with positive gain, best gain: -inf\n",
            "[LightGBM] [Warning] No further splits with positive gain, best gain: -inf\n",
            "[LightGBM] [Warning] No further splits with positive gain, best gain: -inf\n",
            "[LightGBM] [Warning] No further splits with positive gain, best gain: -inf\n",
            "[LightGBM] [Warning] No further splits with positive gain, best gain: -inf\n",
            "[LightGBM] [Warning] No further splits with positive gain, best gain: -inf\n",
            "[LightGBM] [Warning] No further splits with positive gain, best gain: -inf\n",
            "[LightGBM] [Warning] No further splits with positive gain, best gain: -inf\n",
            "[LightGBM] [Warning] No further splits with positive gain, best gain: -inf\n",
            "[LightGBM] [Warning] No further splits with positive gain, best gain: -inf\n",
            "[LightGBM] [Warning] No further splits with positive gain, best gain: -inf\n",
            "[LightGBM] [Warning] No further splits with positive gain, best gain: -inf\n",
            "[LightGBM] [Warning] No further splits with positive gain, best gain: -inf\n",
            "[LightGBM] [Warning] No further splits with positive gain, best gain: -inf\n",
            "[LightGBM] [Warning] No further splits with positive gain, best gain: -inf\n",
            "[LightGBM] [Warning] No further splits with positive gain, best gain: -inf\n",
            "[LightGBM] [Warning] No further splits with positive gain, best gain: -inf\n",
            "[LightGBM] [Warning] No further splits with positive gain, best gain: -inf\n",
            "[LightGBM] [Warning] No further splits with positive gain, best gain: -inf\n",
            "[LightGBM] [Warning] No further splits with positive gain, best gain: -inf\n",
            "[LightGBM] [Warning] No further splits with positive gain, best gain: -inf\n",
            "[LightGBM] [Warning] No further splits with positive gain, best gain: -inf\n",
            "[LightGBM] [Warning] No further splits with positive gain, best gain: -inf\n",
            "[LightGBM] [Warning] No further splits with positive gain, best gain: -inf\n",
            "[LightGBM] [Warning] No further splits with positive gain, best gain: -inf\n",
            "[LightGBM] [Warning] No further splits with positive gain, best gain: -inf\n",
            "[LightGBM] [Warning] No further splits with positive gain, best gain: -inf\n",
            "[LightGBM] [Warning] No further splits with positive gain, best gain: -inf\n",
            "[LightGBM] [Warning] No further splits with positive gain, best gain: -inf\n",
            "[LightGBM] [Warning] No further splits with positive gain, best gain: -inf\n",
            "[LightGBM] [Warning] No further splits with positive gain, best gain: -inf\n",
            "[LightGBM] [Warning] No further splits with positive gain, best gain: -inf\n",
            "[LightGBM] [Warning] No further splits with positive gain, best gain: -inf\n",
            "[LightGBM] [Warning] No further splits with positive gain, best gain: -inf\n",
            "[LightGBM] [Warning] No further splits with positive gain, best gain: -inf\n",
            "[LightGBM] [Warning] No further splits with positive gain, best gain: -inf\n",
            "[LightGBM] [Warning] No further splits with positive gain, best gain: -inf\n",
            "[LightGBM] [Warning] No further splits with positive gain, best gain: -inf\n",
            "[LightGBM] [Warning] No further splits with positive gain, best gain: -inf\n",
            "[LightGBM] [Warning] No further splits with positive gain, best gain: -inf\n",
            "[LightGBM] [Warning] No further splits with positive gain, best gain: -inf\n",
            "[LightGBM] [Warning] No further splits with positive gain, best gain: -inf\n",
            "[LightGBM] [Warning] No further splits with positive gain, best gain: -inf\n",
            "[LightGBM] [Warning] No further splits with positive gain, best gain: -inf\n",
            "[LightGBM] [Warning] No further splits with positive gain, best gain: -inf\n",
            "[LightGBM] [Warning] No further splits with positive gain, best gain: -inf\n",
            "[LightGBM] [Warning] No further splits with positive gain, best gain: -inf\n",
            "[LightGBM] [Warning] No further splits with positive gain, best gain: -inf\n",
            "[LightGBM] [Warning] No further splits with positive gain, best gain: -inf\n",
            "[LightGBM] [Warning] No further splits with positive gain, best gain: -inf\n",
            "[LightGBM] [Warning] No further splits with positive gain, best gain: -inf\n",
            "[LightGBM] [Warning] No further splits with positive gain, best gain: -inf\n",
            "[LightGBM] [Warning] No further splits with positive gain, best gain: -inf\n",
            "[LightGBM] [Warning] No further splits with positive gain, best gain: -inf\n",
            "[LightGBM] [Warning] No further splits with positive gain, best gain: -inf\n",
            "[LightGBM] [Warning] No further splits with positive gain, best gain: -inf\n",
            "[LightGBM] [Warning] No further splits with positive gain, best gain: -inf\n",
            "[LightGBM] [Warning] No further splits with positive gain, best gain: -inf\n",
            "[LightGBM] [Warning] No further splits with positive gain, best gain: -inf\n",
            "[LightGBM] [Warning] No further splits with positive gain, best gain: -inf\n",
            "[LightGBM] [Warning] No further splits with positive gain, best gain: -inf\n",
            "[LightGBM] [Warning] No further splits with positive gain, best gain: -inf\n",
            "[LightGBM] [Warning] No further splits with positive gain, best gain: -inf\n",
            "[LightGBM] [Warning] No further splits with positive gain, best gain: -inf\n",
            "[LightGBM] [Warning] No further splits with positive gain, best gain: -inf\n",
            "[LightGBM] [Warning] No further splits with positive gain, best gain: -inf\n",
            "[LightGBM] [Warning] No further splits with positive gain, best gain: -inf\n",
            "[LightGBM] [Warning] No further splits with positive gain, best gain: -inf\n",
            "[LightGBM] [Warning] No further splits with positive gain, best gain: -inf\n",
            "[LightGBM] [Warning] No further splits with positive gain, best gain: -inf\n",
            "[LightGBM] [Warning] No further splits with positive gain, best gain: -inf\n",
            "[LightGBM] [Warning] No further splits with positive gain, best gain: -inf\n",
            "[LightGBM] [Warning] No further splits with positive gain, best gain: -inf\n",
            "[LightGBM] [Warning] No further splits with positive gain, best gain: -inf\n",
            "[LightGBM] [Warning] No further splits with positive gain, best gain: -inf\n",
            "[LightGBM] [Warning] No further splits with positive gain, best gain: -inf\n",
            "[LightGBM] [Warning] No further splits with positive gain, best gain: -inf\n",
            "[LightGBM] [Warning] No further splits with positive gain, best gain: -inf\n",
            "[LightGBM] [Warning] No further splits with positive gain, best gain: -inf\n",
            "[LightGBM] [Warning] No further splits with positive gain, best gain: -inf\n",
            "[LightGBM] [Warning] No further splits with positive gain, best gain: -inf\n",
            "[LightGBM] [Warning] No further splits with positive gain, best gain: -inf\n",
            "[LightGBM] [Warning] No further splits with positive gain, best gain: -inf\n",
            "[LightGBM] [Warning] No further splits with positive gain, best gain: -inf\n",
            "[LightGBM] [Warning] No further splits with positive gain, best gain: -inf\n",
            "[LightGBM] [Warning] No further splits with positive gain, best gain: -inf\n",
            "[LightGBM] [Warning] No further splits with positive gain, best gain: -inf\n",
            "[LightGBM] [Warning] No further splits with positive gain, best gain: -inf\n",
            "[LightGBM] [Warning] No further splits with positive gain, best gain: -inf\n",
            "[LightGBM] [Warning] No further splits with positive gain, best gain: -inf\n",
            "[LightGBM] [Warning] No further splits with positive gain, best gain: -inf\n",
            "[LightGBM] [Warning] No further splits with positive gain, best gain: -inf\n",
            "[LightGBM] [Warning] No further splits with positive gain, best gain: -inf\n",
            "[LightGBM] [Warning] No further splits with positive gain, best gain: -inf\n",
            "[LightGBM] [Warning] No further splits with positive gain, best gain: -inf\n",
            "[LightGBM] [Warning] No further splits with positive gain, best gain: -inf\n",
            "[LightGBM] [Warning] No further splits with positive gain, best gain: -inf\n",
            "[LightGBM] [Warning] No further splits with positive gain, best gain: -inf\n",
            "[LightGBM] [Warning] No further splits with positive gain, best gain: -inf\n",
            "[LightGBM] [Warning] No further splits with positive gain, best gain: -inf\n",
            "[LightGBM] [Warning] No further splits with positive gain, best gain: -inf\n",
            "[LightGBM] [Warning] No further splits with positive gain, best gain: -inf\n",
            "[LightGBM] [Warning] No further splits with positive gain, best gain: -inf\n",
            "[LightGBM] [Warning] No further splits with positive gain, best gain: -inf\n",
            "[LightGBM] [Warning] No further splits with positive gain, best gain: -inf\n",
            "[LightGBM] [Warning] No further splits with positive gain, best gain: -inf\n",
            "[LightGBM] [Warning] No further splits with positive gain, best gain: -inf\n",
            "[LightGBM] [Warning] No further splits with positive gain, best gain: -inf\n",
            "[LightGBM] [Warning] No further splits with positive gain, best gain: -inf\n",
            "[LightGBM] [Warning] No further splits with positive gain, best gain: -inf\n",
            "[LightGBM] [Warning] No further splits with positive gain, best gain: -inf\n",
            "[LightGBM] [Warning] No further splits with positive gain, best gain: -inf\n",
            "[LightGBM] [Warning] No further splits with positive gain, best gain: -inf\n",
            "[LightGBM] [Warning] No further splits with positive gain, best gain: -inf\n",
            "[LightGBM] [Warning] No further splits with positive gain, best gain: -inf\n",
            "[LightGBM] [Warning] No further splits with positive gain, best gain: -inf\n",
            "[LightGBM] [Warning] No further splits with positive gain, best gain: -inf\n",
            "[LightGBM] [Warning] No further splits with positive gain, best gain: -inf\n",
            "[LightGBM] [Warning] No further splits with positive gain, best gain: -inf\n",
            "[LightGBM] [Warning] No further splits with positive gain, best gain: -inf\n",
            "[LightGBM] [Warning] No further splits with positive gain, best gain: -inf\n",
            "[LightGBM] [Warning] No further splits with positive gain, best gain: -inf\n",
            "[LightGBM] [Warning] No further splits with positive gain, best gain: -inf\n",
            "[LightGBM] [Warning] No further splits with positive gain, best gain: -inf\n",
            "[LightGBM] [Warning] No further splits with positive gain, best gain: -inf\n",
            "[LightGBM] [Warning] No further splits with positive gain, best gain: -inf\n",
            "[LightGBM] [Warning] No further splits with positive gain, best gain: -inf\n",
            "[LightGBM] [Warning] No further splits with positive gain, best gain: -inf\n",
            "[LightGBM] [Warning] No further splits with positive gain, best gain: -inf\n",
            "[LightGBM] [Warning] No further splits with positive gain, best gain: -inf\n",
            "[LightGBM] [Warning] No further splits with positive gain, best gain: -inf\n",
            "[LightGBM] [Warning] No further splits with positive gain, best gain: -inf\n",
            "[LightGBM] [Warning] No further splits with positive gain, best gain: -inf\n",
            "[LightGBM] [Warning] No further splits with positive gain, best gain: -inf\n",
            "[LightGBM] [Warning] No further splits with positive gain, best gain: -inf\n",
            "[LightGBM] [Warning] No further splits with positive gain, best gain: -inf\n",
            "[LightGBM] [Warning] No further splits with positive gain, best gain: -inf\n",
            "[LightGBM] [Warning] No further splits with positive gain, best gain: -inf\n",
            "[LightGBM] [Warning] No further splits with positive gain, best gain: -inf\n",
            "Best params: {'scale_pos_weight': 1, 'num_leaves': 31, 'n_estimators': 400, 'min_child_samples': 5, 'max_depth': 5, 'learning_rate': 0.1, 'class_weight': 'balanced'}\n",
            "Best CV F1: 0.34875328517023724\n"
          ]
        }
      ]
    },
    {
      "cell_type": "code",
      "source": [
        "from sklearn.metrics import classification_report, f1_score\n",
        "\n",
        "# 1. Retrieve best model\n",
        "best_lgbm = rs.best_estimator_\n",
        "\n",
        "# 2. Predict probabilities for threshold tuning\n",
        "y_train_proba = best_lgbm.predict_proba(X_train)[:, 1]\n",
        "y_test_proba = best_lgbm.predict_proba(X_test)[:, 1]"
      ],
      "metadata": {
        "id": "SxwWoqWuhW-p"
      },
      "execution_count": null,
      "outputs": []
    },
    {
      "cell_type": "code",
      "source": [
        "# 3. Choose your best threshold (start with 0.2 or sweep for optimal value)\n",
        "threshold = 0.5\n",
        "\n",
        "y_train_pred = (y_train_proba > threshold).astype(int)\n",
        "y_test_pred = (y_test_proba > threshold).astype(int)\n",
        "\n",
        "# 4. Print metrics for training set\n",
        "print(\"=== TRAINING SET ===\")\n",
        "print(f\"F1-score: {f1_score(y_train, y_train_pred, pos_label=1):.3f}\")\n",
        "print(classification_report(y_train, y_train_pred))\n",
        "\n",
        "# 5. Print metrics for test set\n",
        "print(\"=== TEST SET ===\")\n",
        "print(f\"F1-score: {f1_score(y_test, y_test_pred, pos_label=1):.3f}\")\n",
        "print(classification_report(y_test, y_test_pred))"
      ],
      "metadata": {
        "colab": {
          "base_uri": "https://localhost:8080/"
        },
        "id": "HNSQKyX_nVt6",
        "outputId": "6ce81eae-93ad-4df8-d125-d51f15a7276e"
      },
      "execution_count": null,
      "outputs": [
        {
          "output_type": "stream",
          "name": "stdout",
          "text": [
            "=== TRAINING SET ===\n",
            "F1-score: 0.508\n",
            "              precision    recall  f1-score   support\n",
            "\n",
            "           0       0.99      0.90      0.94     67243\n",
            "           1       0.37      0.81      0.51      4723\n",
            "\n",
            "    accuracy                           0.90     71966\n",
            "   macro avg       0.68      0.86      0.73     71966\n",
            "weighted avg       0.95      0.90      0.91     71966\n",
            "\n",
            "=== TEST SET ===\n",
            "F1-score: 0.353\n",
            "              precision    recall  f1-score   support\n",
            "\n",
            "           0       0.97      0.89      0.92     28847\n",
            "           1       0.26      0.57      0.35      1996\n",
            "\n",
            "    accuracy                           0.87     30843\n",
            "   macro avg       0.61      0.73      0.64     30843\n",
            "weighted avg       0.92      0.87      0.89     30843\n",
            "\n"
          ]
        }
      ]
    },
    {
      "cell_type": "code",
      "source": [
        "import matplotlib.pyplot as plt\n",
        "\n",
        "plt.figure(figsize=(10,6))\n",
        "plt.hist(y_test_proba[y_test == 0], bins=50, alpha=0.6, label='Class 0')\n",
        "plt.hist(y_test_proba[y_test == 1], bins=50, alpha=0.6, label='Class 1')\n",
        "plt.title('Distribution of Predicted Probabilities (LightGBM)')\n",
        "plt.xlabel('Predicted Probability for Class 1')\n",
        "plt.ylabel('Count')\n",
        "plt.legend()\n",
        "plt.show()"
      ],
      "metadata": {
        "colab": {
          "base_uri": "https://localhost:8080/",
          "height": 564
        },
        "id": "u3d7j8pmol0H",
        "outputId": "ed545529-c3ca-4175-ba58-e5c24285f5fe"
      },
      "execution_count": null,
      "outputs": [
        {
          "output_type": "display_data",
          "data": {
            "text/plain": [
              "<Figure size 1000x600 with 1 Axes>"
            ],
            "image/png": "[encoded data removed]"
          },
          "metadata": {}
        }
      ]
    }
  ],
  "metadata": {
    "colab": {
      "provenance": []
    },
    "kernelspec": {
      "display_name": "Python 3",
      "name": "python3"
    },
    "language_info": {
      "name": "python"
    }
  },
  "nbformat": 4,
  "nbformat_minor": 0
}